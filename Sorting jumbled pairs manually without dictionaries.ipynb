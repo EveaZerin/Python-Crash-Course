{
  "nbformat": 4,
  "nbformat_minor": 0,
  "metadata": {
    "colab": {
      "name": "Untitled3.ipynb",
      "provenance": [],
      "authorship_tag": "ABX9TyNYumsNCebgZlRqxKzzR/4t"
    },
    "kernelspec": {
      "name": "python3",
      "display_name": "Python 3"
    }
  },
  "cells": [
    {
      "cell_type": "code",
      "metadata": {
        "id": "EQ86piDlbhO2",
        "colab_type": "code",
        "colab": {
          "base_uri": "https://localhost:8080/",
          "height": 163
        },
        "outputId": "34bf2ea8-bd30-42a4-868d-e593ac7200fd"
      },
      "source": [
        "info=input(\"Please Enter Student Information: \")\n",
        "info=info.split(\",\")\n",
        "list1=[]\n",
        "list2=[]\n",
        "for i in range(0,len(info),2):\n",
        "    list1.append(info[i])\n",
        "print(list1)    \n",
        "for s in range(1,len(info),2):\n",
        "    list2.append(info[s])\n",
        "print(list2)    \n",
        "caps=\"ABCDEFGHIJKLMNOPQRSTUVWXYZ\"\n",
        "capsList=[i for i in caps]\n",
        "maxVal=0\n",
        "string=\"\"\n",
        "string2=\"\"\n",
        "for m in range(0,len(list1)):\n",
        "    if ord(list1[m])>maxVal:\n",
        "        string=string+list1[m]\n",
        "        string2=string2+\",\"+list2[m]\n",
        "        maxVal=ord(list1[m])\n",
        "    else:\n",
        "        string=list1[m]+string\n",
        "        string2=list2[m]+\",\"+string2\n",
        "string2=string2.split(\",\")\n",
        "print(type(string2))\n",
        "print(string)\n",
        "list4=[]\n",
        "for k in string2:\n",
        "    if k==\"\":\n",
        "        continue\n",
        "    else:\n",
        "        list4.append(k)\n",
        "print(list4)    \n",
        "print(string)     \n",
        "finalList=[]\n",
        "for j in range(0,len(string)):\n",
        "    finalList.append(string[j])\n",
        "    finalList.append(list4[j])\n",
        "print(finalList)"
      ],
      "execution_count": 8,
      "outputs": [
        {
          "output_type": "stream",
          "text": [
            "Please Enter Student Information: W,79,V,84,U,63,Y,54,X,91\n",
            "['W', 'V', 'U', 'Y', 'X']\n",
            "['79', '84', '63', '54', '91']\n",
            "<class 'list'>\n",
            "XUVWY\n",
            "['91', '63', '84', '79', '54']\n",
            "XUVWY\n",
            "['X', '91', 'U', '63', 'V', '84', 'W', '79', 'Y', '54']\n"
          ],
          "name": "stdout"
        }
      ]
    },
    {
      "cell_type": "code",
      "metadata": {
        "id": "lykan5tneI8l",
        "colab_type": "code",
        "colab": {
          "base_uri": "https://localhost:8080/",
          "height": 54
        },
        "outputId": "057bd60a-55f9-426d-f6dc-c5c8c3b9b2f9"
      },
      "source": [
        "info=input(\"Please Enter Student Information: \")\n",
        "info=info.split(\",\")\n",
        "list_names=[]\n",
        "list_id=[]\n",
        "for i in range(0,len(info),2):\n",
        "  list_names.append(info[i])\n",
        "   \n",
        "for s in range(1,len(info),2):\n",
        "  list_id.append(info[s])\n",
        "\n",
        "for i in range(0,len(list_names)-1,1):\n",
        "  min_val=list_names[i]\n",
        "  min_val_index=i\n",
        "  for j in range(i+1,len(list_names),1):\n",
        "    if list_names[j]<min_val:\n",
        "      min_val=list_names[j]\n",
        "      min_val_index=j\n",
        "  \n",
        "  temp=list_names[i]    \n",
        "  list_names[i]=list_names[min_val_index]\n",
        "  list_names[min_val_index]=temp\n",
        "  temp2=list_id[i]    \n",
        "  list_id[i]=list_id[min_val_index]\n",
        "  list_id[min_val_index]=temp2\n",
        "\n",
        "output_list=[]\n",
        "\n",
        "for i in range(len(list_names)):\n",
        "  output_list.append(list_names[i])\n",
        "  output_list.append(list_id[i])\n",
        "\n",
        "print(output_list)  \n"
      ],
      "execution_count": 28,
      "outputs": [
        {
          "output_type": "stream",
          "text": [
            "Please Enter Student Information: W,79,V,84,U,63,Y,54,X,91\n",
            "['U', '63', 'V', '84', 'W', '79', 'X', '91', 'Y', '54']\n"
          ],
          "name": "stdout"
        }
      ]
    }
  ]
}